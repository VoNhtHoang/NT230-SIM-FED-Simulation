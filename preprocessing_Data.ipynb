{
 "cells": [
  {
   "cell_type": "code",
   "execution_count": 1,
   "id": "de309664",
   "metadata": {},
   "outputs": [
    {
     "name": "stdout",
     "output_type": "stream",
     "text": [
      "Các thư mục con:\n",
      "CTU-Honeypot-Capture-4-1\n",
      "CTU-Honeypot-Capture-5-1\n",
      "CTU-Honeypot-Capture-7-1\n",
      "CTU-IoT-Malware-Capture-1-1\n",
      "CTU-IoT-Malware-Capture-17-1\n",
      "CTU-IoT-Malware-Capture-20-1\n",
      "CTU-IoT-Malware-Capture-21-1\n",
      "CTU-IoT-Malware-Capture-3-1\n",
      "CTU-IoT-Malware-Capture-33-1\n",
      "CTU-IoT-Malware-Capture-34-1\n",
      "CTU-IoT-Malware-Capture-35-1\n",
      "CTU-IoT-Malware-Capture-36-1\n",
      "CTU-IoT-Malware-Capture-39-1\n",
      "CTU-IoT-Malware-Capture-42-1\n",
      "CTU-IoT-Malware-Capture-43-1\n",
      "CTU-IoT-Malware-Capture-44-1\n",
      "CTU-IoT-Malware-Capture-48-1\n",
      "CTU-IoT-Malware-Capture-49-1\n",
      "CTU-IoT-Malware-Capture-52-1\n",
      "CTU-IoT-Malware-Capture-60-1\n",
      "CTU-IoT-Malware-Capture-7-1\n",
      "CTU-IoT-Malware-Capture-8-1\n",
      "CTU-IoT-Malware-Capture-9-1\n",
      "23\n",
      "file Index: 0\n",
      "file Index: 1\n",
      "file Index: 2\n",
      "file Index: 3\n",
      "file Index: 4\n",
      "file Index: 5\n",
      "file Index: 6\n",
      "file Index: 7\n",
      "file Index: 8\n",
      "file Index: 9\n",
      "file Index: 10\n",
      "file Index: 11\n",
      "file Index: 12\n",
      "file Index: 13\n",
      "file Index: 14\n"
     ]
    },
    {
     "ename": "MemoryError",
     "evalue": "Unable to allocate 81.0 MiB for an array with shape (461450, 23) and data type object",
     "output_type": "error",
     "traceback": [
      "\u001b[31m---------------------------------------------------------------------------\u001b[39m",
      "\u001b[31mMemoryError\u001b[39m                               Traceback (most recent call last)",
      "\u001b[36mCell\u001b[39m\u001b[36m \u001b[39m\u001b[32mIn[1]\u001b[39m\u001b[32m, line 63\u001b[39m\n\u001b[32m     59\u001b[39m \u001b[38;5;28mprint\u001b[39m(\u001b[33mf\u001b[39m\u001b[33m\"\u001b[39m\u001b[33mfile Index: \u001b[39m\u001b[38;5;132;01m{\u001b[39;00mindexFile\u001b[38;5;132;01m}\u001b[39;00m\u001b[33m\"\u001b[39m)\n\u001b[32m     60\u001b[39m \u001b[38;5;66;03m#, os.path.getsize(filePath)\u001b[39;00m\n\u001b[32m     61\u001b[39m \u001b[38;5;66;03m# print(df.head())\u001b[39;00m\n\u001b[32m     62\u001b[39m \u001b[38;5;66;03m# print(df.shape[0].compute())\u001b[39;00m\n\u001b[32m---> \u001b[39m\u001b[32m63\u001b[39m \u001b[43mdf\u001b[49m\u001b[43m.\u001b[49m\u001b[43mto_csv\u001b[49m\u001b[43m(\u001b[49m\u001b[43moutput_file\u001b[49m\u001b[43m,\u001b[49m\u001b[43m \u001b[49m\u001b[43mmode\u001b[49m\u001b[43m=\u001b[49m\u001b[33;43m'\u001b[39;49m\u001b[33;43ma\u001b[39;49m\u001b[33;43m'\u001b[39;49m\u001b[43m,\u001b[49m\u001b[43m \u001b[49m\u001b[43mheader\u001b[49m\u001b[43m=\u001b[49m\u001b[38;5;129;43;01mnot\u001b[39;49;00m\u001b[43m \u001b[49m\u001b[43mheader_Existence\u001b[49m\u001b[43m,\u001b[49m\u001b[43m \u001b[49m\u001b[43mindex\u001b[49m\u001b[43m=\u001b[49m\u001b[38;5;28;43;01mFalse\u001b[39;49;00m\u001b[43m,\u001b[49m\u001b[43m \u001b[49m\u001b[43msingle_file\u001b[49m\u001b[43m=\u001b[49m\u001b[38;5;28;43;01mTrue\u001b[39;49;00m\u001b[43m)\u001b[49m\n\u001b[32m     64\u001b[39m header_Existence = \u001b[38;5;28;01mTrue\u001b[39;00m\n",
      "\u001b[36mFile \u001b[39m\u001b[32mc:\\Users\\hoang\\AppData\\Local\\Programs\\Python\\Python311\\Lib\\site-packages\\dask\\dataframe\\dask_expr\\_collection.py:2437\u001b[39m, in \u001b[36mFrameBase.to_csv\u001b[39m\u001b[34m(self, filename, **kwargs)\u001b[39m\n\u001b[32m   2434\u001b[39m \u001b[38;5;250m\u001b[39m\u001b[33;03m\"\"\"See dd.to_csv docstring for more information\"\"\"\u001b[39;00m\n\u001b[32m   2435\u001b[39m \u001b[38;5;28;01mfrom\u001b[39;00m\u001b[38;5;250m \u001b[39m\u001b[34;01mdask\u001b[39;00m\u001b[34;01m.\u001b[39;00m\u001b[34;01mdataframe\u001b[39;00m\u001b[34;01m.\u001b[39;00m\u001b[34;01mio\u001b[39;00m\u001b[34;01m.\u001b[39;00m\u001b[34;01mcsv\u001b[39;00m\u001b[38;5;250m \u001b[39m\u001b[38;5;28;01mimport\u001b[39;00m to_csv\n\u001b[32m-> \u001b[39m\u001b[32m2437\u001b[39m \u001b[38;5;28;01mreturn\u001b[39;00m \u001b[43mto_csv\u001b[49m\u001b[43m(\u001b[49m\u001b[38;5;28;43mself\u001b[39;49m\u001b[43m,\u001b[49m\u001b[43m \u001b[49m\u001b[43mfilename\u001b[49m\u001b[43m,\u001b[49m\u001b[43m \u001b[49m\u001b[43m*\u001b[49m\u001b[43m*\u001b[49m\u001b[43mkwargs\u001b[49m\u001b[43m)\u001b[49m\n",
      "\u001b[36mFile \u001b[39m\u001b[32mc:\\Users\\hoang\\AppData\\Local\\Programs\\Python\\Python311\\Lib\\site-packages\\dask\\dataframe\\io\\csv.py:967\u001b[39m, in \u001b[36mto_csv\u001b[39m\u001b[34m(df, filename, single_file, encoding, mode, name_function, compression, compute, scheduler, storage_options, header_first_partition_only, compute_kwargs, **kwargs)\u001b[39m\n\u001b[32m    963\u001b[39m         compute_kwargs[\u001b[33m\"\u001b[39m\u001b[33mscheduler\u001b[39m\u001b[33m\"\u001b[39m] = scheduler\n\u001b[32m    965\u001b[39m     \u001b[38;5;28;01mimport\u001b[39;00m\u001b[38;5;250m \u001b[39m\u001b[34;01mdask\u001b[39;00m\n\u001b[32m--> \u001b[39m\u001b[32m967\u001b[39m     \u001b[38;5;28;01mreturn\u001b[39;00m \u001b[38;5;28mlist\u001b[39m(\u001b[43mdask\u001b[49m\u001b[43m.\u001b[49m\u001b[43mcompute\u001b[49m\u001b[43m(\u001b[49m\u001b[43m*\u001b[49m\u001b[43mvalues\u001b[49m\u001b[43m,\u001b[49m\u001b[43m \u001b[49m\u001b[43m*\u001b[49m\u001b[43m*\u001b[49m\u001b[43mcompute_kwargs\u001b[49m\u001b[43m)\u001b[49m)\n\u001b[32m    968\u001b[39m \u001b[38;5;28;01melse\u001b[39;00m:\n\u001b[32m    969\u001b[39m     \u001b[38;5;28;01mreturn\u001b[39;00m values\n",
      "\u001b[36mFile \u001b[39m\u001b[32mc:\\Users\\hoang\\AppData\\Local\\Programs\\Python\\Python311\\Lib\\site-packages\\dask\\base.py:662\u001b[39m, in \u001b[36mcompute\u001b[39m\u001b[34m(traverse, optimize_graph, scheduler, get, *args, **kwargs)\u001b[39m\n\u001b[32m    659\u001b[39m     postcomputes.append(x.__dask_postcompute__())\n\u001b[32m    661\u001b[39m \u001b[38;5;28;01mwith\u001b[39;00m shorten_traceback():\n\u001b[32m--> \u001b[39m\u001b[32m662\u001b[39m     results = \u001b[43mschedule\u001b[49m\u001b[43m(\u001b[49m\u001b[43mdsk\u001b[49m\u001b[43m,\u001b[49m\u001b[43m \u001b[49m\u001b[43mkeys\u001b[49m\u001b[43m,\u001b[49m\u001b[43m \u001b[49m\u001b[43m*\u001b[49m\u001b[43m*\u001b[49m\u001b[43mkwargs\u001b[49m\u001b[43m)\u001b[49m\n\u001b[32m    664\u001b[39m \u001b[38;5;28;01mreturn\u001b[39;00m repack([f(r, *a) \u001b[38;5;28;01mfor\u001b[39;00m r, (f, a) \u001b[38;5;129;01min\u001b[39;00m \u001b[38;5;28mzip\u001b[39m(results, postcomputes)])\n",
      "\u001b[36mFile \u001b[39m\u001b[32mc:\\Users\\hoang\\AppData\\Local\\Programs\\Python\\Python311\\Lib\\site-packages\\dask\\dataframe\\io\\csv.py:351\u001b[39m, in \u001b[36m_read_csv\u001b[39m\u001b[34m(block, part, columns, reader, header, dtypes, head, colname, full_columns, enforce, kwargs, blocksize)\u001b[39m\n\u001b[32m    348\u001b[39m         rest_kwargs[\u001b[33m\"\u001b[39m\u001b[33musecols\u001b[39m\u001b[33m\"\u001b[39m] = _columns\n\u001b[32m    350\u001b[39m \u001b[38;5;66;03m# Call `pandas_read_text`\u001b[39;00m\n\u001b[32m--> \u001b[39m\u001b[32m351\u001b[39m df = \u001b[43mpandas_read_text\u001b[49m\u001b[43m(\u001b[49m\n\u001b[32m    352\u001b[39m \u001b[43m    \u001b[49m\u001b[43mreader\u001b[49m\u001b[43m,\u001b[49m\n\u001b[32m    353\u001b[39m \u001b[43m    \u001b[49m\u001b[43mblock\u001b[49m\u001b[43m,\u001b[49m\n\u001b[32m    354\u001b[39m \u001b[43m    \u001b[49m\u001b[43mheader\u001b[49m\u001b[43m,\u001b[49m\n\u001b[32m    355\u001b[39m \u001b[43m    \u001b[49m\u001b[43mrest_kwargs\u001b[49m\u001b[43m,\u001b[49m\n\u001b[32m    356\u001b[39m \u001b[43m    \u001b[49m\u001b[43mdtypes\u001b[49m\u001b[43m,\u001b[49m\n\u001b[32m    357\u001b[39m \u001b[43m    \u001b[49m\u001b[43m_columns\u001b[49m\u001b[43m,\u001b[49m\n\u001b[32m    358\u001b[39m \u001b[43m    \u001b[49m\u001b[43mwrite_header\u001b[49m\u001b[43m,\u001b[49m\n\u001b[32m    359\u001b[39m \u001b[43m    \u001b[49m\u001b[43menforce\u001b[49m\u001b[43m,\u001b[49m\n\u001b[32m    360\u001b[39m \u001b[43m    \u001b[49m\u001b[43mpath_info\u001b[49m\u001b[43m,\u001b[49m\n\u001b[32m    361\u001b[39m \u001b[43m\u001b[49m\u001b[43m)\u001b[49m\n\u001b[32m    362\u001b[39m \u001b[38;5;28;01mif\u001b[39;00m project_after_read:\n\u001b[32m    363\u001b[39m     \u001b[38;5;28;01mreturn\u001b[39;00m df[columns]\n",
      "\u001b[36mFile \u001b[39m\u001b[32mc:\\Users\\hoang\\AppData\\Local\\Programs\\Python\\Python311\\Lib\\site-packages\\dask\\dataframe\\io\\csv.py:77\u001b[39m, in \u001b[36mpandas_read_text\u001b[39m\u001b[34m(reader, b, header, kwargs, dtypes, columns, write_header, enforce, path)\u001b[39m\n\u001b[32m     75\u001b[39m bio.write(b)\n\u001b[32m     76\u001b[39m bio.seek(\u001b[32m0\u001b[39m)\n\u001b[32m---> \u001b[39m\u001b[32m77\u001b[39m df = \u001b[43mreader\u001b[49m\u001b[43m(\u001b[49m\u001b[43mbio\u001b[49m\u001b[43m,\u001b[49m\u001b[43m \u001b[49m\u001b[43m*\u001b[49m\u001b[43m*\u001b[49m\u001b[43mkwargs\u001b[49m\u001b[43m)\u001b[49m\n\u001b[32m     78\u001b[39m \u001b[38;5;28;01mif\u001b[39;00m dtypes:\n\u001b[32m     79\u001b[39m     coerce_dtypes(df, dtypes)\n",
      "\u001b[36mFile \u001b[39m\u001b[32mc:\\Users\\hoang\\AppData\\Local\\Programs\\Python\\Python311\\Lib\\site-packages\\pandas\\io\\parsers\\readers.py:1026\u001b[39m, in \u001b[36mread_csv\u001b[39m\u001b[34m(filepath_or_buffer, sep, delimiter, header, names, index_col, usecols, dtype, engine, converters, true_values, false_values, skipinitialspace, skiprows, skipfooter, nrows, na_values, keep_default_na, na_filter, verbose, skip_blank_lines, parse_dates, infer_datetime_format, keep_date_col, date_parser, date_format, dayfirst, cache_dates, iterator, chunksize, compression, thousands, decimal, lineterminator, quotechar, quoting, doublequote, escapechar, comment, encoding, encoding_errors, dialect, on_bad_lines, delim_whitespace, low_memory, memory_map, float_precision, storage_options, dtype_backend)\u001b[39m\n\u001b[32m   1013\u001b[39m kwds_defaults = _refine_defaults_read(\n\u001b[32m   1014\u001b[39m     dialect,\n\u001b[32m   1015\u001b[39m     delimiter,\n\u001b[32m   (...)\u001b[39m\u001b[32m   1022\u001b[39m     dtype_backend=dtype_backend,\n\u001b[32m   1023\u001b[39m )\n\u001b[32m   1024\u001b[39m kwds.update(kwds_defaults)\n\u001b[32m-> \u001b[39m\u001b[32m1026\u001b[39m \u001b[38;5;28;01mreturn\u001b[39;00m \u001b[43m_read\u001b[49m\u001b[43m(\u001b[49m\u001b[43mfilepath_or_buffer\u001b[49m\u001b[43m,\u001b[49m\u001b[43m \u001b[49m\u001b[43mkwds\u001b[49m\u001b[43m)\u001b[49m\n",
      "\u001b[36mFile \u001b[39m\u001b[32mc:\\Users\\hoang\\AppData\\Local\\Programs\\Python\\Python311\\Lib\\site-packages\\pandas\\io\\parsers\\readers.py:626\u001b[39m, in \u001b[36m_read\u001b[39m\u001b[34m(filepath_or_buffer, kwds)\u001b[39m\n\u001b[32m    623\u001b[39m     \u001b[38;5;28;01mreturn\u001b[39;00m parser\n\u001b[32m    625\u001b[39m \u001b[38;5;28;01mwith\u001b[39;00m parser:\n\u001b[32m--> \u001b[39m\u001b[32m626\u001b[39m     \u001b[38;5;28;01mreturn\u001b[39;00m \u001b[43mparser\u001b[49m\u001b[43m.\u001b[49m\u001b[43mread\u001b[49m\u001b[43m(\u001b[49m\u001b[43mnrows\u001b[49m\u001b[43m)\u001b[49m\n",
      "\u001b[36mFile \u001b[39m\u001b[32mc:\\Users\\hoang\\AppData\\Local\\Programs\\Python\\Python311\\Lib\\site-packages\\pandas\\io\\parsers\\readers.py:1923\u001b[39m, in \u001b[36mTextFileReader.read\u001b[39m\u001b[34m(self, nrows)\u001b[39m\n\u001b[32m   1916\u001b[39m nrows = validate_integer(\u001b[33m\"\u001b[39m\u001b[33mnrows\u001b[39m\u001b[33m\"\u001b[39m, nrows)\n\u001b[32m   1917\u001b[39m \u001b[38;5;28;01mtry\u001b[39;00m:\n\u001b[32m   1918\u001b[39m     \u001b[38;5;66;03m# error: \"ParserBase\" has no attribute \"read\"\u001b[39;00m\n\u001b[32m   1919\u001b[39m     (\n\u001b[32m   1920\u001b[39m         index,\n\u001b[32m   1921\u001b[39m         columns,\n\u001b[32m   1922\u001b[39m         col_dict,\n\u001b[32m-> \u001b[39m\u001b[32m1923\u001b[39m     ) = \u001b[38;5;28;43mself\u001b[39;49m\u001b[43m.\u001b[49m\u001b[43m_engine\u001b[49m\u001b[43m.\u001b[49m\u001b[43mread\u001b[49m\u001b[43m(\u001b[49m\u001b[43m  \u001b[49m\u001b[38;5;66;43;03m# type: ignore[attr-defined]\u001b[39;49;00m\n\u001b[32m   1924\u001b[39m \u001b[43m        \u001b[49m\u001b[43mnrows\u001b[49m\n\u001b[32m   1925\u001b[39m \u001b[43m    \u001b[49m\u001b[43m)\u001b[49m\n\u001b[32m   1926\u001b[39m \u001b[38;5;28;01mexcept\u001b[39;00m \u001b[38;5;167;01mException\u001b[39;00m:\n\u001b[32m   1927\u001b[39m     \u001b[38;5;28mself\u001b[39m.close()\n",
      "\u001b[36mFile \u001b[39m\u001b[32mc:\\Users\\hoang\\AppData\\Local\\Programs\\Python\\Python311\\Lib\\site-packages\\pandas\\io\\parsers\\python_parser.py:288\u001b[39m, in \u001b[36mPythonParser.read\u001b[39m\u001b[34m(self, rows)\u001b[39m\n\u001b[32m    285\u001b[39m     indexnamerow = content[\u001b[32m0\u001b[39m]\n\u001b[32m    286\u001b[39m     content = content[\u001b[32m1\u001b[39m:]\n\u001b[32m--> \u001b[39m\u001b[32m288\u001b[39m alldata = \u001b[38;5;28;43mself\u001b[39;49m\u001b[43m.\u001b[49m\u001b[43m_rows_to_cols\u001b[49m\u001b[43m(\u001b[49m\u001b[43mcontent\u001b[49m\u001b[43m)\u001b[49m\n\u001b[32m    289\u001b[39m data, columns = \u001b[38;5;28mself\u001b[39m._exclude_implicit_index(alldata)\n\u001b[32m    291\u001b[39m conv_data = \u001b[38;5;28mself\u001b[39m._convert_data(data)\n",
      "\u001b[36mFile \u001b[39m\u001b[32mc:\\Users\\hoang\\AppData\\Local\\Programs\\Python\\Python311\\Lib\\site-packages\\pandas\\io\\parsers\\python_parser.py:1066\u001b[39m, in \u001b[36mPythonParser._rows_to_cols\u001b[39m\u001b[34m(self, content)\u001b[39m\n\u001b[32m   1063\u001b[39m         \u001b[38;5;28mself\u001b[39m._alert_malformed(msg, row_num + \u001b[32m1\u001b[39m)\n\u001b[32m   1065\u001b[39m \u001b[38;5;66;03m# see gh-13320\u001b[39;00m\n\u001b[32m-> \u001b[39m\u001b[32m1066\u001b[39m zipped_content = \u001b[38;5;28mlist\u001b[39m(\u001b[43mlib\u001b[49m\u001b[43m.\u001b[49m\u001b[43mto_object_array\u001b[49m\u001b[43m(\u001b[49m\u001b[43mcontent\u001b[49m\u001b[43m,\u001b[49m\u001b[43m \u001b[49m\u001b[43mmin_width\u001b[49m\u001b[43m=\u001b[49m\u001b[43mcol_len\u001b[49m\u001b[43m)\u001b[49m.T)\n\u001b[32m   1068\u001b[39m \u001b[38;5;28;01mif\u001b[39;00m \u001b[38;5;28mself\u001b[39m.usecols:\n\u001b[32m   1069\u001b[39m     \u001b[38;5;28;01massert\u001b[39;00m \u001b[38;5;28mself\u001b[39m._col_indices \u001b[38;5;129;01mis\u001b[39;00m \u001b[38;5;129;01mnot\u001b[39;00m \u001b[38;5;28;01mNone\u001b[39;00m\n",
      "\u001b[36mFile \u001b[39m\u001b[32mlib.pyx:3018\u001b[39m, in \u001b[36mpandas._libs.lib.to_object_array\u001b[39m\u001b[34m()\u001b[39m\n",
      "\u001b[31mMemoryError\u001b[39m: Unable to allocate 81.0 MiB for an array with shape (461450, 23) and data type object"
     ]
    }
   ],
   "source": [
    "import os, sys\n",
    "\n",
    "def list_subdirectories(path):\n",
    "    subdirs = [d for d in os.listdir(path) if os.path.isdir(os.path.join(path, d))]\n",
    "    return subdirs\n",
    "\n",
    "def list_subfiles(path):\n",
    "    subfilesPath = files = [os.path.join(root, f) for root, _, files in os.walk(path) for f in files]\n",
    "    return subfilesPath\n",
    "\n",
    "# path = \"/mnt/c/Users/hoang/FileCSV_DACN_2025/opt/Malware-Project/BigDataset/IoTScenarios\"\n",
    "path = \"C:/Users/hoang/FileCSV_DACN_2025/opt/Malware-Project/BigDataset/IoTScenarios\"\n",
    "subdirectories = list_subdirectories(path)\n",
    "\n",
    "filesPath = []\n",
    "print(\"Các thư mục con:\")\n",
    "for subdir in subdirectories:\n",
    "    print(subdir)\n",
    "    for f in list_subfiles(path+\"/\"+subdir):\n",
    "        filesPath.append(f)\n",
    "    \n",
    "# print(filesPath)\n",
    "\n",
    "import csv\n",
    "import re\n",
    "import dask.dataframe as dd\n",
    "import pandas as pd\n",
    "\n",
    "input_file = filesPath[0]\n",
    "# output_file = '/mnt/c/Users/hoang/FileCSV_DACN_2025/opt/log_1.csv'\n",
    "# output_file2 = '/mnt/c/Users/hoang/FileCSV_DACN_2025/opt/log_2.csv'\n",
    "output_file = \"C:/Users/hoang/FileCSV_DACN_2025/opt/log_1.csv\"\n",
    "output_file2 = \"C:/Users/hoang/FileCSV_DACN_2025/opt/log_2.csv\"\n",
    "\n",
    "fields = []\n",
    "with open(input_file, \"r\") as f:\n",
    "    for line in f:\n",
    "        line=line.strip()\n",
    "        if line.startswith(\"#fields\"):\n",
    "            fields = re.split(r'[\\t ]+',line)[1:]  # Bỏ '#fields'\n",
    "            break\n",
    "\n",
    "# fields[-1] = fields[-1].replace('\\n', '')\n",
    "print(len(fields))\n",
    "\n",
    "header_Existence = False\n",
    "for indexFile, filePath in enumerate(filesPath):\n",
    "    df = dd.read_csv(\n",
    "        filePath,\n",
    "        sep=r'[\\t ]+',\n",
    "        comment='#',\n",
    "        names=fields,\n",
    "        dtype=str,\n",
    "        engine='python',\n",
    "        blocksize=\"64MB\",\n",
    "        on_bad_lines='skip'\n",
    "    )\n",
    "    \n",
    "    print(f\"file Index: {indexFile}\")\n",
    "    #, os.path.getsize(filePath)\n",
    "    # print(df.head())\n",
    "    # print(df.shape[0].compute())\n",
    "    df.to_csv(output_file, mode='a', header=not header_Existence, index=False, single_file=True)\n",
    "    header_Existence = True"
   ]
  },
  {
   "cell_type": "markdown",
   "id": "ec0d08b3",
   "metadata": {},
   "source": [
    "# Data cleaning, Filtering, Normalization, ..."
   ]
  },
  {
   "cell_type": "code",
   "execution_count": 5,
   "id": "e1cdd9e3",
   "metadata": {},
   "outputs": [
    {
     "name": "stdout",
     "output_type": "stream",
     "text": [
      "(<dask_expr.expr.Scalar: expr=ArrowStringConversion(frame=FromMapProjectable(c028377)).size() // 23, dtype=int64>, 23)\n"
     ]
    },
    {
     "name": "stderr",
     "output_type": "stream",
     "text": [
      "c:\\Users\\hoang\\AppData\\Local\\Programs\\Python\\Python311\\Lib\\site-packages\\dask\\dataframe\\dask_expr\\_collection.py:4208: UserWarning: \n",
      "You did not provide metadata, so Dask is running your function on a small dataset to guess output types. It is possible that Dask will guess incorrectly.\n",
      "To provide an explicit output types or to silence this message, please provide the `meta=` keyword, as described in the map or apply function that you are using.\n",
      "  Before: .apply(func)\n",
      "  After:  .apply(func, meta=('label', 'float64'))\n",
      "\n",
      "  warnings.warn(meta_warning(meta))\n"
     ]
    },
    {
     "data": {
      "text/plain": [
       "['C:\\\\Users\\\\hoang\\\\FileCSV_DACN_2025\\\\opt\\\\log_2.csv']"
      ]
     },
     "execution_count": 5,
     "metadata": {},
     "output_type": "execute_result"
    }
   ],
   "source": [
    "\n",
    "df = dd.read_csv(output_file, dtype=str)\n",
    "print(df.shape)\n",
    "# Step 4: Data cleaning\n",
    "non_empty_columns = df.columns[df.isnull().sum().compute() < len(df)]\n",
    "df = df[non_empty_columns]\n",
    "df = df.drop_duplicates()             # Drop duplicate rows\n",
    "df = df.fillna(\"0\")                   # Replace missing/null with \"0\"\n",
    "\n",
    "label_mapping= {\"benign\":0, \"Malicious\":1, \"Benign\":0, \"malicious\": 1}\n",
    "df['label'] = df['label'].map(label_mapping).fillna(-1).astype(int)\n",
    "\n",
    "# Step 6: Save cleaned data for ML\n",
    "df.to_csv(output_file2, single_file=True, index=False)"
   ]
  }
 ],
 "metadata": {
  "kernelspec": {
   "display_name": "Python 3",
   "language": "python",
   "name": "python3"
  },
  "language_info": {
   "codemirror_mode": {
    "name": "ipython",
    "version": 3
   },
   "file_extension": ".py",
   "mimetype": "text/x-python",
   "name": "python",
   "nbconvert_exporter": "python",
   "pygments_lexer": "ipython3",
   "version": "3.11.5"
  }
 },
 "nbformat": 4,
 "nbformat_minor": 5
}
